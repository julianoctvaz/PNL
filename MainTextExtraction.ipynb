{
  "nbformat": 4,
  "nbformat_minor": 0,
  "metadata": {
    "colab": {
      "name": "MainTextExtraction.ipynb",
      "provenance": [],
      "collapsed_sections": [],
      "include_colab_link": true
    },
    "kernelspec": {
      "name": "python3",
      "display_name": "Python 3"
    },
    "language_info": {
      "name": "python"
    }
  },
  "cells": [
    {
      "cell_type": "markdown",
      "metadata": {
        "id": "view-in-github",
        "colab_type": "text"
      },
      "source": [
        "<a href=\"https://colab.research.google.com/github/julianoctvaz/PNL/blob/main/MainTextExtraction.ipynb\" target=\"_parent\"><img src=\"https://colab.research.google.com/assets/colab-badge.svg\" alt=\"Open In Colab\"/></a>"
      ]
    },
    {
      "cell_type": "markdown",
      "metadata": {
        "id": "MZTw_GhaKRPP"
      },
      "source": [
        "#### Esse extrator é modelo construido a partir de um dataset de clima, será utilizado com avaliação parcial na disciplina de Processamento de Linguagem Natural, 2020.2 - Cin UFPE\n",
        "\n"
      ]
    },
    {
      "cell_type": "markdown",
      "metadata": {
        "id": "gXD1kIHXKjmR"
      },
      "source": [
        "### Bibliotecas "
      ]
    },
    {
      "cell_type": "code",
      "metadata": {
        "colab": {
          "base_uri": "https://localhost:8080/"
        },
        "id": "o9NvjSGLRyh1",
        "outputId": "e0dc05f3-18a2-47f7-d4d2-ac253c6f8914"
      },
      "source": [
        "#http://alexminnaar.com/2019/08/22/ner-rnns-tensorflow.html\n",
        "try:\n",
        "  # %tensorflow_version only exists in Colab.\n",
        "  %tensorflow_version 2.x\n",
        "except Exception:\n",
        "  pass\n",
        "import tensorflow as tf\n",
        "\n",
        "import numpy as np\n",
        "import os\n",
        "import time\n",
        "\n",
        "print(tf.__version__)"
      ],
      "execution_count": null,
      "outputs": [
        {
          "output_type": "stream",
          "text": [
            "2.6.0\n"
          ],
          "name": "stdout"
        }
      ]
    },
    {
      "cell_type": "markdown",
      "metadata": {
        "id": "WZjTt20iKoqh"
      },
      "source": [
        "### Baixando dados "
      ]
    },
    {
      "cell_type": "code",
      "metadata": {
        "colab": {
          "base_uri": "https://localhost:8080/"
        },
        "id": "0Hppr-9dR7FA",
        "outputId": "21599260-a482-42ae-a6b8-78c294d21cbc"
      },
      "source": [
        "!wget https://raw.githubusercontent.com/julianoctvaz/PNL/main/TextExtraction/test.txt"
      ],
      "execution_count": null,
      "outputs": [
        {
          "output_type": "stream",
          "text": [
            "--2021-08-18 12:20:03--  https://raw.githubusercontent.com/julianoctvaz/PNL/main/TextExtraction/test.txt\n",
            "Resolving raw.githubusercontent.com (raw.githubusercontent.com)... 185.199.108.133, 185.199.109.133, 185.199.110.133, ...\n",
            "Connecting to raw.githubusercontent.com (raw.githubusercontent.com)|185.199.108.133|:443... connected.\n",
            "HTTP request sent, awaiting response... 200 OK\n",
            "Length: 35217 (34K) [text/plain]\n",
            "Saving to: ‘test.txt’\n",
            "\n",
            "test.txt            100%[===================>]  34.39K  --.-KB/s    in 0.004s  \n",
            "\n",
            "2021-08-18 12:20:03 (8.72 MB/s) - ‘test.txt’ saved [35217/35217]\n",
            "\n"
          ],
          "name": "stdout"
        }
      ]
    },
    {
      "cell_type": "code",
      "metadata": {
        "colab": {
          "base_uri": "https://localhost:8080/"
        },
        "id": "8v6AGlAHR9w3",
        "outputId": "3b3bfb81-394c-4b67-b3fb-16ee0aca0f5b"
      },
      "source": [
        "!wget https://raw.githubusercontent.com/julianoctvaz/PNL/main/TextExtraction/train.txt"
      ],
      "execution_count": null,
      "outputs": [
        {
          "output_type": "stream",
          "text": [
            "--2021-08-18 12:20:03--  https://raw.githubusercontent.com/julianoctvaz/PNL/main/TextExtraction/train.txt\n",
            "Resolving raw.githubusercontent.com (raw.githubusercontent.com)... 185.199.108.133, 185.199.109.133, 185.199.110.133, ...\n",
            "Connecting to raw.githubusercontent.com (raw.githubusercontent.com)|185.199.108.133|:443... connected.\n",
            "HTTP request sent, awaiting response... 200 OK\n",
            "Length: 164382 (161K) [text/plain]\n",
            "Saving to: ‘train.txt’\n",
            "\n",
            "train.txt           100%[===================>] 160.53K  --.-KB/s    in 0.03s   \n",
            "\n",
            "2021-08-18 12:20:04 (5.50 MB/s) - ‘train.txt’ saved [164382/164382]\n",
            "\n"
          ],
          "name": "stdout"
        }
      ]
    },
    {
      "cell_type": "code",
      "metadata": {
        "colab": {
          "base_uri": "https://localhost:8080/"
        },
        "id": "12shKDvFR_Cv",
        "outputId": "beaf0822-d30f-4305-a14b-ccc9e89dcfcc"
      },
      "source": [
        "!wget https://raw.githubusercontent.com/julianoctvaz/PNL/main/TextExtraction/valid.txt"
      ],
      "execution_count": null,
      "outputs": [
        {
          "output_type": "stream",
          "text": [
            "--2021-08-18 12:20:04--  https://raw.githubusercontent.com/julianoctvaz/PNL/main/TextExtraction/valid.txt\n",
            "Resolving raw.githubusercontent.com (raw.githubusercontent.com)... 185.199.111.133, 185.199.108.133, 185.199.109.133, ...\n",
            "Connecting to raw.githubusercontent.com (raw.githubusercontent.com)|185.199.111.133|:443... connected.\n",
            "HTTP request sent, awaiting response... 200 OK\n",
            "Length: 34448 (34K) [text/plain]\n",
            "Saving to: ‘valid.txt’\n",
            "\n",
            "valid.txt           100%[===================>]  33.64K  --.-KB/s    in 0s      \n",
            "\n",
            "2021-08-18 12:20:04 (81.1 MB/s) - ‘valid.txt’ saved [34448/34448]\n",
            "\n"
          ],
          "name": "stdout"
        }
      ]
    },
    {
      "cell_type": "code",
      "metadata": {
        "id": "5gP6ikxnSC-3"
      },
      "source": [
        "labels = set()\n",
        "\n",
        "def file2Examples(file_name):\n",
        "  '''\n",
        "  Read data files and return input/output pairs\n",
        "  '''\n",
        "  \n",
        "  examples=[]\n",
        "\n",
        "  with open(file_name,\"r\") as f:\n",
        "\n",
        "    next(f)\n",
        "    next(f)\n",
        "\n",
        "    example = [[],[]]\n",
        "\n",
        "    for line in f:\n",
        "      input_output_split= line.split()\n",
        "\n",
        "      if len(input_output_split)==2:\n",
        "        example[0].append(input_output_split[0])\n",
        "        example[1].append(input_output_split[-1])\n",
        "        labels.add(input_output_split[-1])\n",
        "\n",
        "      elif len(input_output_split)==0:\n",
        "        examples.append(example)\n",
        "        example=[[],[]]\n",
        "        \n",
        "      else:\n",
        "        example=[[],[]]\n",
        "\n",
        "    f.close()\n",
        "\n",
        "    return examples\n",
        "\n",
        "train_examples = file2Examples(\"train.txt\")\n",
        "test_examples = file2Examples(\"test.txt\")\n",
        "valid_examples = file2Examples(\"valid.txt\")"
      ],
      "execution_count": null,
      "outputs": []
    },
    {
      "cell_type": "markdown",
      "metadata": {
        "id": "h0HocJoLKx2w"
      },
      "source": [
        "### Verificando se tagging foi concluído com sucesso"
      ]
    },
    {
      "cell_type": "code",
      "metadata": {
        "colab": {
          "base_uri": "https://localhost:8080/"
        },
        "id": "LNcx2mSxgSNi",
        "outputId": "1709f454-91ed-45f8-9321-81c2ed844d57"
      },
      "source": [
        "!head train.txt"
      ],
      "execution_count": null,
      "outputs": [
        {
          "output_type": "stream",
          "text": [
            "What O\n",
            "will O\n",
            "the O\n",
            "weather O\n",
            "be O\n",
            "this B-timeRange\n",
            "year I-timeRange\n",
            "in O\n",
            "Horseshoe B-geographic_poi\n",
            "Lake I-geographic_poi\n"
          ],
          "name": "stdout"
        }
      ]
    },
    {
      "cell_type": "markdown",
      "metadata": {
        "id": "5h7sPqoWJoSA"
      },
      "source": [
        "### Dimensões (entities) mapeados do dataset para o formato BIO-Label, tagging de categorias\n",
        "##### esse preprocessamento para BIO-Label com javascript, mais detalhes verificar repositório"
      ]
    },
    {
      "cell_type": "code",
      "metadata": {
        "colab": {
          "base_uri": "https://localhost:8080/"
        },
        "id": "K2oKDCSpSHJv",
        "outputId": "98320f66-5e72-43b7-e132-354501edcebf"
      },
      "source": [
        "\n",
        "# create character vocab\n",
        "all_text = \" \".join([\" \".join(x[0]) for x in train_examples+valid_examples+test_examples])\n",
        "vocab = sorted(set(all_text))\n",
        "\n",
        "# create character/id and label/id mapping\n",
        "char2idx = {u:i+1 for i, u in enumerate(vocab)}\n",
        "idx2char = np.array(vocab)\n",
        "label2idx = {u:i+1 for i, u in enumerate(labels)}\n",
        "idx2label = np.array(labels)\n",
        "\n",
        "print(idx2label)\n",
        "print(char2idx)"
      ],
      "execution_count": null,
      "outputs": [
        {
          "output_type": "stream",
          "text": [
            "{'I-current_location', 'I-state', 'O', 'I-geographic_poi', 'I-city', 'B-country', 'I-country', 'I-spatial_relation', 'B-geographic_poi', 'I-timeRange', 'B-condition_temperature', 'B-city', 'B-timeRange', 'B-current_location', 'B-condition_description', 'B-state', 'B-spatial_relation'}\n",
            "{' ': 1, '0': 2, '1': 3, '2': 4, '3': 5, '4': 6, '5': 7, '6': 8, '7': 9, '8': 10, '9': 11, 'A': 12, 'B': 13, 'C': 14, 'D': 15, 'E': 16, 'F': 17, 'G': 18, 'H': 19, 'I': 20, 'J': 21, 'K': 22, 'L': 23, 'M': 24, 'N': 25, 'O': 26, 'P': 27, 'Q': 28, 'R': 29, 'S': 30, 'T': 31, 'U': 32, 'V': 33, 'W': 34, 'X': 35, 'Y': 36, 'Z': 37, 'a': 38, 'b': 39, 'c': 40, 'd': 41, 'e': 42, 'f': 43, 'g': 44, 'h': 45, 'i': 46, 'j': 47, 'k': 48, 'l': 49, 'm': 50, 'n': 51, 'o': 52, 'p': 53, 'q': 54, 'r': 55, 's': 56, 't': 57, 'u': 58, 'v': 59, 'w': 60, 'x': 61, 'y': 62, 'z': 63}\n"
          ],
          "name": "stdout"
        }
      ]
    },
    {
      "cell_type": "markdown",
      "metadata": {
        "id": "FbWd4a-dLc_d"
      },
      "source": [
        "### Criando variaveis dado o data split"
      ]
    },
    {
      "cell_type": "code",
      "metadata": {
        "colab": {
          "base_uri": "https://localhost:8080/"
        },
        "id": "1UrNiL6agNcy",
        "outputId": "839b026b-8124-4f89-e4ad-3bdcf6ad7c04"
      },
      "source": [
        "def split_char_labels(eg):\n",
        "  '''\n",
        "  For a given input/output example, break tokens into characters while keeping \n",
        "  the same label.\n",
        "  '''\n",
        "\n",
        "  tokens = eg[0]\n",
        "  labels=eg[1]\n",
        "\n",
        "  input_chars = []\n",
        "  output_char_labels = []\n",
        "\n",
        "  for token,label in zip(tokens,labels):\n",
        "\n",
        "    input_chars.extend([char for char in token])\n",
        "    input_chars.extend(' ')\n",
        "    output_char_labels.extend([label]*len(token))\n",
        "    output_char_labels.extend('O')\n",
        "\n",
        "  return [[char2idx[x] for x in input_chars[:-1]],np.array([label2idx[x] for x in output_char_labels[:-1]])]\n",
        "\n",
        "train_formatted = [split_char_labels(eg) for eg in train_examples]\n",
        "test_formatted = [split_char_labels(eg) for eg in test_examples]\n",
        "valid_formatted = [split_char_labels(eg) for eg in valid_examples]\n",
        "\n",
        "print(len(train_formatted))\n",
        "print(len(test_formatted))\n",
        "print(len(valid_formatted))"
      ],
      "execution_count": null,
      "outputs": [
        {
          "output_type": "stream",
          "text": [
            "1400\n",
            "300\n",
            "300\n"
          ],
          "name": "stdout"
        }
      ]
    },
    {
      "cell_type": "markdown",
      "metadata": {
        "id": "pW1Srg0AL0ri"
      },
      "source": [
        "### Construindo o Modelo LSTM"
      ]
    },
    {
      "cell_type": "code",
      "metadata": {
        "colab": {
          "base_uri": "https://localhost:8080/"
        },
        "id": "1uF72cAG_8CY",
        "outputId": "ee6e7c26-e3bf-4a3d-9cad-7b3f78724395"
      },
      "source": [
        " #training generator\n",
        "def gen_train_series():\n",
        "  for eg in train_formatted:\n",
        "     yield eg[0],eg[1]\n",
        "\n",
        "# validation generator\n",
        "def gen_valid_series():\n",
        "  for eg in valid_formatted:\n",
        "     yield eg[0],eg[1]\n",
        "\n",
        "# test generator\n",
        "def gen_test_series():\n",
        "  for eg in test_formatted:\n",
        "      yield eg[0],eg[1]\n",
        "      \n",
        "# create Dataset objects for train, test and validation sets  \n",
        "series = tf.data.Dataset.from_generator(gen_train_series,output_types=(tf.int32, tf.int32),output_shapes = ((None, None)))\n",
        "series_valid = tf.data.Dataset.from_generator(gen_valid_series,output_types=(tf.int32, tf.int32),output_shapes = ((None, None)))\n",
        "series_test = tf.data.Dataset.from_generator(gen_test_series,output_types=(tf.int32, tf.int32),output_shapes = ((None, None)))\n",
        "\n",
        "BATCH_SIZE = 128\n",
        "BUFFER_SIZE=1000\n",
        "\n",
        "# create padded batch series objects for train, test and validation sets\n",
        "ds_series_batch = series.shuffle(BUFFER_SIZE).padded_batch(BATCH_SIZE, padded_shapes=([None], [None]), drop_remainder=True)\n",
        "ds_series_batch_valid = series_valid.padded_batch(BATCH_SIZE, padded_shapes=([None], [None]), drop_remainder=True)\n",
        "ds_series_batch_test = series_test.padded_batch(BATCH_SIZE, padded_shapes=([None], [None]), drop_remainder=True)\n",
        "  \n",
        "  # print example batches\n",
        "for input_example_batch, target_example_batch in ds_series_batch_valid.take(1):\n",
        "  print(input_example_batch)\n",
        "  print(target_example_batch)"
      ],
      "execution_count": null,
      "outputs": [
        {
          "output_type": "stream",
          "text": [
            "tf.Tensor(\n",
            "[[57 45 42 ...  0  0  0]\n",
            " [20 56  1 ...  0  0  0]\n",
            " [34 45 38 ...  0  0  0]\n",
            " ...\n",
            " [60 45 38 ...  0  0  0]\n",
            " [34 46 49 ...  0  0  0]\n",
            " [34 45 38 ...  0  0  0]], shape=(128, 96), dtype=int32)\n",
            "tf.Tensor(\n",
            "[[3 3 3 ... 0 0 0]\n",
            " [3 3 3 ... 0 0 0]\n",
            " [3 3 3 ... 0 0 0]\n",
            " ...\n",
            " [3 3 3 ... 0 0 0]\n",
            " [3 3 3 ... 0 0 0]\n",
            " [3 3 3 ... 0 0 0]], shape=(128, 96), dtype=int32)\n"
          ],
          "name": "stdout"
        }
      ]
    },
    {
      "cell_type": "code",
      "metadata": {
        "colab": {
          "base_uri": "https://localhost:8080/"
        },
        "id": "ZBLlZRRKBRXG",
        "outputId": "f0e119c7-e844-494e-ac97-66d3fe17c5ba"
      },
      "source": [
        "vocab_size = len(vocab)+1\n",
        "\n",
        "# The embedding dimension\n",
        "embedding_dim = 256\n",
        "\n",
        "# Number of RNN units\n",
        "rnn_units = 1024\n",
        "\n",
        "label_size = len(labels)  \n",
        "\n",
        "# build LSTM model\n",
        "def build_model(vocab_size,label_size, embedding_dim, rnn_units, batch_size):\n",
        "      model = tf.keras.Sequential([\n",
        "          tf.keras.layers.Embedding(vocab_size, embedding_dim,\n",
        "                            batch_input_shape=[batch_size, None],mask_zero=True),\n",
        "          tf.keras.layers.LSTM(rnn_units,\n",
        "                      return_sequences=True,\n",
        "                      stateful=True,\n",
        "                      recurrent_initializer='glorot_uniform'),\n",
        "          tf.keras.layers.Dense(label_size)\n",
        "          ])\n",
        "      return model\n",
        "\n",
        "model = build_model(\n",
        "      vocab_size = len(vocab)+1,\n",
        "      label_size=len(labels)+1,\n",
        "      embedding_dim=embedding_dim,\n",
        "      rnn_units=rnn_units,\n",
        "      batch_size=BATCH_SIZE)\n",
        "\n",
        "model.summary()"
      ],
      "execution_count": null,
      "outputs": [
        {
          "output_type": "stream",
          "text": [
            "Model: \"sequential\"\n",
            "_________________________________________________________________\n",
            "Layer (type)                 Output Shape              Param #   \n",
            "=================================================================\n",
            "embedding (Embedding)        (128, None, 256)          16384     \n",
            "_________________________________________________________________\n",
            "lstm (LSTM)                  (128, None, 1024)         5246976   \n",
            "_________________________________________________________________\n",
            "dense (Dense)                (128, None, 18)           18450     \n",
            "=================================================================\n",
            "Total params: 5,281,810\n",
            "Trainable params: 5,281,810\n",
            "Non-trainable params: 0\n",
            "_________________________________________________________________\n"
          ],
          "name": "stdout"
        }
      ]
    },
    {
      "cell_type": "markdown",
      "metadata": {
        "id": "f05iHETvMGAI"
      },
      "source": [
        "### Loss function com Sparse Categorical Crossentropy e optimizador adam, \n",
        "##### Essa configuração de paramêtros foi o que trouxe os melhores resultados"
      ]
    },
    {
      "cell_type": "code",
      "metadata": {
        "id": "uMYKcpuABnRj"
      },
      "source": [
        "\n",
        "# define loss function\n",
        "def loss(labels, logits):\n",
        "    return tf.keras.losses.sparse_categorical_crossentropy(labels, logits, from_logits=True)\n",
        "\n",
        "model.compile(optimizer='adam', loss=loss,metrics=[tf.keras.metrics.SparseCategoricalAccuracy()])\n",
        "\n",
        "# Directory where the checkpoints will be saved\n",
        "checkpoint_dir = './training_checkpoints'\n",
        "# Name of the checkpoint files\n",
        "checkpoint_prefix = os.path.join(checkpoint_dir, \"ckpt_{epoch}\")\n",
        "\n",
        "checkpoint_callback=tf.keras.callbacks.ModelCheckpoint(\n",
        "    filepath=checkpoint_prefix,\n",
        "    save_weights_only=True)"
      ],
      "execution_count": null,
      "outputs": []
    },
    {
      "cell_type": "code",
      "metadata": {
        "colab": {
          "base_uri": "https://localhost:8080/"
        },
        "id": "Q8ygo-BsBr6v",
        "outputId": "1e15ca03-49e9-472c-bb18-0c21b0f49059"
      },
      "source": [
        "EPOCHS=20\n",
        "\n",
        "history = model.fit(ds_series_batch, epochs=EPOCHS, validation_data=ds_series_batch_valid,callbacks=[checkpoint_callback])"
      ],
      "execution_count": null,
      "outputs": [
        {
          "output_type": "stream",
          "text": [
            "Epoch 1/20\n",
            "10/10 [==============================] - 125s 12s/step - loss: 1.1511 - sparse_categorical_accuracy: 0.5065 - val_loss: 1.0665 - val_sparse_categorical_accuracy: 0.5803\n",
            "Epoch 2/20\n",
            "10/10 [==============================] - 117s 12s/step - loss: 0.8740 - sparse_categorical_accuracy: 0.5661 - val_loss: 0.9018 - val_sparse_categorical_accuracy: 0.5803\n",
            "Epoch 3/20\n",
            "10/10 [==============================] - 113s 11s/step - loss: 0.8485 - sparse_categorical_accuracy: 0.5635 - val_loss: 0.8449 - val_sparse_categorical_accuracy: 0.5807\n",
            "Epoch 4/20\n",
            "10/10 [==============================] - 117s 12s/step - loss: 0.8047 - sparse_categorical_accuracy: 0.5559 - val_loss: 0.8212 - val_sparse_categorical_accuracy: 0.5817\n",
            "Epoch 5/20\n",
            "10/10 [==============================] - 113s 11s/step - loss: 0.7775 - sparse_categorical_accuracy: 0.5705 - val_loss: 0.7974 - val_sparse_categorical_accuracy: 0.5846\n",
            "Epoch 6/20\n",
            "10/10 [==============================] - 115s 11s/step - loss: 0.7262 - sparse_categorical_accuracy: 0.5866 - val_loss: 0.7551 - val_sparse_categorical_accuracy: 0.6134\n",
            "Epoch 7/20\n",
            "10/10 [==============================] - 115s 12s/step - loss: 0.8708 - sparse_categorical_accuracy: 0.5616 - val_loss: 0.7533 - val_sparse_categorical_accuracy: 0.6015\n",
            "Epoch 8/20\n",
            "10/10 [==============================] - 113s 11s/step - loss: 0.6898 - sparse_categorical_accuracy: 0.6107 - val_loss: 0.6967 - val_sparse_categorical_accuracy: 0.6348\n",
            "Epoch 9/20\n",
            "10/10 [==============================] - 118s 12s/step - loss: 0.6164 - sparse_categorical_accuracy: 0.6317 - val_loss: 0.6721 - val_sparse_categorical_accuracy: 0.6409\n",
            "Epoch 10/20\n",
            "10/10 [==============================] - 114s 12s/step - loss: 0.6218 - sparse_categorical_accuracy: 0.6324 - val_loss: 0.6478 - val_sparse_categorical_accuracy: 0.6420\n",
            "Epoch 11/20\n",
            "10/10 [==============================] - 115s 11s/step - loss: 0.5965 - sparse_categorical_accuracy: 0.6438 - val_loss: 0.6848 - val_sparse_categorical_accuracy: 0.6391\n",
            "Epoch 12/20\n",
            "10/10 [==============================] - 118s 12s/step - loss: 0.5791 - sparse_categorical_accuracy: 0.6349 - val_loss: 0.6397 - val_sparse_categorical_accuracy: 0.6479\n",
            "Epoch 13/20\n",
            "10/10 [==============================] - 120s 12s/step - loss: 0.5540 - sparse_categorical_accuracy: 0.6494 - val_loss: 0.6629 - val_sparse_categorical_accuracy: 0.6248\n",
            "Epoch 14/20\n",
            "10/10 [==============================] - 115s 11s/step - loss: 0.5545 - sparse_categorical_accuracy: 0.6540 - val_loss: 0.6004 - val_sparse_categorical_accuracy: 0.6698\n",
            "Epoch 15/20\n",
            "10/10 [==============================] - 116s 12s/step - loss: 0.5269 - sparse_categorical_accuracy: 0.6768 - val_loss: 0.5682 - val_sparse_categorical_accuracy: 0.6767\n",
            "Epoch 16/20\n",
            "10/10 [==============================] - 114s 12s/step - loss: 0.5165 - sparse_categorical_accuracy: 0.6835 - val_loss: 0.5733 - val_sparse_categorical_accuracy: 0.6805\n",
            "Epoch 17/20\n",
            "10/10 [==============================] - 113s 11s/step - loss: 0.5162 - sparse_categorical_accuracy: 0.6887 - val_loss: 0.5456 - val_sparse_categorical_accuracy: 0.6891\n",
            "Epoch 18/20\n",
            "10/10 [==============================] - 116s 12s/step - loss: 0.4815 - sparse_categorical_accuracy: 0.6968 - val_loss: 0.5441 - val_sparse_categorical_accuracy: 0.6978\n",
            "Epoch 19/20\n",
            "10/10 [==============================] - 116s 12s/step - loss: 0.4666 - sparse_categorical_accuracy: 0.7116 - val_loss: 0.5171 - val_sparse_categorical_accuracy: 0.6962\n",
            "Epoch 20/20\n",
            "10/10 [==============================] - 119s 12s/step - loss: 0.4970 - sparse_categorical_accuracy: 0.6904 - val_loss: 0.5035 - val_sparse_categorical_accuracy: 0.7132\n"
          ],
          "name": "stdout"
        }
      ]
    },
    {
      "cell_type": "markdown",
      "metadata": {
        "id": "t7fMO3SrMA5D"
      },
      "source": [
        "### Métricas"
      ]
    },
    {
      "cell_type": "code",
      "metadata": {
        "colab": {
          "base_uri": "https://localhost:8080/"
        },
        "id": "ljnS6g2tL4rJ",
        "outputId": "51588ff5-181c-481c-9034-557b26cc4d04"
      },
      "source": [
        "from sklearn.metrics import classification_report, confusion_matrix\n",
        "\n",
        "preds = np.array([])\n",
        "y_trues= np.array([])\n",
        "\n",
        "# iterate through test set, make predictions based on trained model\n",
        "for input_example_batch, target_example_batch in ds_series_batch_test:\n",
        "\n",
        "  pred=model.predict_on_batch(input_example_batch)\n",
        "  pred_max=tf.argmax(tf.nn.softmax(pred),2).numpy().flatten()\n",
        "  y_true=target_example_batch.numpy().flatten()\n",
        "\n",
        "  preds=np.concatenate([preds,pred_max])\n",
        "  y_trues=np.concatenate([y_trues,y_true])\n",
        "\n",
        "# remove padding from evaluation\n",
        "remove_padding = [(p,y) for p,y in zip(preds,y_trues) if y!=0]\n",
        "\n",
        "r_p = [x[0] for x in remove_padding]\n",
        "r_t = [x[1] for x in remove_padding]\n",
        "\n",
        "# print confusion matrix and classification report\n",
        "print(confusion_matrix(r_p,r_t))\n",
        "print(classification_report(r_p,r_t))"
      ],
      "execution_count": null,
      "outputs": [
        {
          "output_type": "stream",
          "text": [
            "[[  83    0    6    0    0    0    0    0    0    0    0    0    0    0\n",
            "     0    0    3]\n",
            " [   0    0    0    0    0    0    0    0    0    0    0    0    0    0\n",
            "     0    0    0]\n",
            " [   0    7 6543   74   32   14   25   41   10  249  182   54  317   49\n",
            "   180   55   95]\n",
            " [   0   19  111  689   60   81   68    0    2    2    3   25   22    0\n",
            "     4   78    9]\n",
            " [   0    1    0   10   32   11    7    0    0    0    0    0    0    0\n",
            "     0    7    0]\n",
            " [   0   21   35   83   82   45   12    0   15    0    0   15    8    0\n",
            "     0   13    0]\n",
            " [   0    0    0    2    0    0    0    0    0    0    2    1    1    0\n",
            "     1    0    0]\n",
            " [   0    0    0    0    0    0    0    0    0    0    0    0    0    0\n",
            "     0    0    0]\n",
            " [   0    0    2    0    0    0    0    0    0    0    0    0    0    0\n",
            "     0    0    0]\n",
            " [   0    0  133    0    0    2    0    0    1  590    3    8  109   25\n",
            "    14    5   13]\n",
            " [   0    0   15    0    0    0    0    0    0    3  103    0    0    2\n",
            "    22    0    0]\n",
            " [   0    6   25   10   18  222    4   10  229   17    0  655   21    0\n",
            "     1  103    0]\n",
            " [   0    0    0    0    0    1    0    0    0    6    0    0    9    0\n",
            "     3    0    0]\n",
            " [   0    0    0    0    0    0    0    0    0    1    1    0    0   72\n",
            "     0    0    0]\n",
            " [   0    0   48    0    0    0    0    2    4    8   35    1   15    0\n",
            "   189    6    0]\n",
            " [   0    0    3    0    1    1    0    0    0    6    0    0    0    0\n",
            "     0   12    0]\n",
            " [   0    0    0    0    0    0    0    0    0    0    0    0    0    0\n",
            "     0    0    0]]\n",
            "              precision    recall  f1-score   support\n",
            "\n",
            "         1.0       1.00      0.90      0.95        92\n",
            "         2.0       0.00      0.00      0.00         0\n",
            "         3.0       0.95      0.83      0.88      7927\n",
            "         4.0       0.79      0.59      0.68      1173\n",
            "         5.0       0.14      0.47      0.22        68\n",
            "         6.0       0.12      0.14      0.13       329\n",
            "         7.0       0.00      0.00      0.00         7\n",
            "         8.0       0.00      0.00      0.00         0\n",
            "         9.0       0.00      0.00      0.00         2\n",
            "        10.0       0.67      0.65      0.66       903\n",
            "        11.0       0.31      0.71      0.43       145\n",
            "        12.0       0.86      0.50      0.63      1321\n",
            "        13.0       0.02      0.47      0.03        19\n",
            "        14.0       0.49      0.97      0.65        74\n",
            "        15.0       0.46      0.61      0.52       308\n",
            "        16.0       0.04      0.52      0.08        23\n",
            "        17.0       0.00      0.00      0.00         0\n",
            "\n",
            "    accuracy                           0.73     12391\n",
            "   macro avg       0.34      0.43      0.34     12391\n",
            "weighted avg       0.85      0.73      0.78     12391\n",
            "\n"
          ],
          "name": "stdout"
        },
        {
          "output_type": "stream",
          "text": [
            "/usr/local/lib/python3.7/dist-packages/sklearn/metrics/_classification.py:1272: UndefinedMetricWarning: Recall and F-score are ill-defined and being set to 0.0 in labels with no true samples. Use `zero_division` parameter to control this behavior.\n",
            "  _warn_prf(average, modifier, msg_start, len(result))\n"
          ],
          "name": "stderr"
        }
      ]
    },
    {
      "cell_type": "code",
      "metadata": {
        "id": "lIrWQsRBN-iI",
        "colab": {
          "base_uri": "https://localhost:8080/",
          "height": 180
        },
        "outputId": "5e25032c-50aa-4ec9-bda2-2549cc34bb3f"
      },
      "source": [
        "from matplotlib import pyplot\n",
        "\n",
        "# plot loss during training\n",
        "pyplot.subplot(211)\n",
        "pyplot.title('Loss')\n",
        "pyplot.plot(history.history['loss'], label='train')\n",
        "pyplot.plot(history.history['val_loss'], label='test')\n",
        "pyplot.legend()\n"
      ],
      "execution_count": null,
      "outputs": [
        {
          "output_type": "execute_result",
          "data": {
            "text/plain": [
              "<matplotlib.legend.Legend at 0x7ff7335de990>"
            ]
          },
          "metadata": {
            "tags": []
          },
          "execution_count": 16
        },
        {
          "output_type": "display_data",
          "data": {
            "image/png": "[encoded data removed]",
            "text/plain": [
              "<Figure size 432x288 with 1 Axes>"
            ]
          },
          "metadata": {
            "tags": [],
            "needs_background": "light"
          }
        }
      ]
    },
    {
      "cell_type": "code",
      "metadata": {
        "id": "hAtWw4wJXPYQ",
        "colab": {
          "base_uri": "https://localhost:8080/",
          "height": 163
        },
        "outputId": "8c35e43d-abfd-4ec1-d2f4-7361ded58b18"
      },
      "source": [
        "# plot sparse categorical accuracy during training\n",
        "\n",
        "pyplot.subplot(212)\n",
        "pyplot.title(' Sparse Categorical Accuracy')\n",
        "pyplot.plot(history.history['sparse_categorical_accuracy'], label='train')\n",
        "pyplot.plot(history.history['val_sparse_categorical_accuracy'], label='test')\n",
        "pyplot.legend()\n",
        "pyplot.show()"
      ],
      "execution_count": null,
      "outputs": [
        {
          "output_type": "display_data",
          "data": {
            "image/png": "[encoded data removed]",
            "text/plain": [
              "<Figure size 432x288 with 1 Axes>"
            ]
          },
          "metadata": {
            "tags": [],
            "needs_background": "light"
          }
        }
      ]
    }
  ]
}